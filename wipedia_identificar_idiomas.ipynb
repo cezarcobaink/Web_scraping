{
 "cells": [
  {
   "cell_type": "markdown",
   "metadata": {},
   "source": [
    "** OBJETIVOS: **\n",
    " - Extrair os idiomas da página principal da WIKIPEDIA\n",
    " - Usar requests para fazer requisições\n",
    " - Usar lxml para fazer o parse da árvore HTML"
   ]
  },
  {
   "cell_type": "code",
   "execution_count": 6,
   "metadata": {},
   "outputs": [
    {
     "name": "stdout",
     "output_type": "stream",
     "text": [
      "Pacotes importados com sucesso!\n"
     ]
    }
   ],
   "source": [
    "import requests\n",
    "from lxml import html\n",
    "\n",
    "print(\"Pacotes importados com sucesso!\")"
   ]
  },
  {
   "cell_type": "code",
   "execution_count": 8,
   "metadata": {},
   "outputs": [],
   "source": [
    "# URL SEMENTE\n",
    "url = 'https://www.wikipedia.org/'"
   ]
  },
  {
   "cell_type": "code",
   "execution_count": 9,
   "metadata": {},
   "outputs": [],
   "source": [
    "\n",
    "# REQUISIÇÃO AO SERVIDOR\n",
    "resposta = requests.get(url, headers=headers)\n",
    "resposta.encoding = 'utf-8' # Codificar corretamente caracteres estranhos"
   ]
  },
  {
   "cell_type": "code",
   "execution_count": 10,
   "metadata": {},
   "outputs": [],
   "source": [
    "# PARSE DA ÁRVORE HTML RECEBIDA COMO RESPOSTA USANDO LXML\n",
    "parser = html.fromstring(resposta.content) # Uso .content para poder codificar os caracteres estranhos\n"
   ]
  },
  {
   "cell_type": "code",
   "execution_count": 22,
   "metadata": {},
   "outputs": [
    {
     "name": "stdout",
     "output_type": "stream",
     "text": [
      "\n",
      "English\n",
      "6,873,000+ articles\n",
      "\n"
     ]
    }
   ],
   "source": [
    "# EXTRAÇÃO DO IDIOMA INGLÊS\n",
    "ingles = parser.get_element_by_id(\"js-link-box-en\")\n",
    "print(ingles.text_content())\n"
   ]
  },
  {
   "cell_type": "code",
   "execution_count": 12,
   "metadata": {},
   "outputs": [
    {
     "name": "stdout",
     "output_type": "stream",
     "text": [
      "English\n"
     ]
    }
   ],
   "source": [
    "# EXTRAÇÃO APENAS DO TEXTO QUE DIZ INGLÊS\n",
    "ingles = parser.xpath(\"//a[@id='js-link-box-en']/strong/text()\")\n",
    "print(ingles[0])"
   ]
  },
  {
   "cell_type": "code",
   "execution_count": 16,
   "metadata": {},
   "outputs": [
    {
     "name": "stdout",
     "output_type": "stream",
     "text": [
      "English\n",
      "6,873,000+ articles\n",
      "日本語\n",
      "1,427,000+ 記事\n",
      "Русский\n",
      "1 996 000+ статей\n",
      "Español\n",
      "1.974.000+ artículos\n",
      "Deutsch\n",
      "2.937.000+ Artikel\n",
      "Français\n",
      "2 631 000+ articles\n",
      "Italiano\n",
      "1.879.000+ voci\n",
      "中文\n",
      "1,438,000+ 条目 / 條目\n",
      "Português\n",
      "1.132.000+ artigos\n",
      "فارسی\n",
      "۱٬۰۱۱٬۰۰۰+ مقاله\n"
     ]
    }
   ],
   "source": [
    "# EXTRAÇÃO DE TODOS OS IDIOMAS POR CLASSE\n",
    "idiomas = parser.xpath(\"//div[contains(@class,'central-featured-lang')]\")\n",
    "for idioma in idiomas:\n",
    "    print(idioma.text_content().strip())\n"
   ]
  },
  {
   "cell_type": "code",
   "execution_count": 18,
   "metadata": {},
   "outputs": [
    {
     "name": "stdout",
     "output_type": "stream",
     "text": [
      "1. English\n",
      "2. 日本語\n",
      "3. Русский\n",
      "4. Español\n",
      "5. Deutsch\n",
      "6. Français\n",
      "7. Italiano\n",
      "8. 中文\n",
      "9. Português\n"
     ]
    }
   ],
   "source": [
    "# EXTRAÇÃO DE TODOS OS IDIOMAS POR XPATH\n",
    "idiomas = parser.xpath(\"//div[contains(@class,'central-featured-lang')]//strong/text()\")\n",
    "for idx, idioma in enumerate(idiomas, start=1):\n",
    "    print(f\"{idx}. {idioma.strip()}\")"
   ]
  }
 ],
 "metadata": {
  "kernelspec": {
   "display_name": "Python 3",
   "language": "python",
   "name": "python3"
  },
  "language_info": {
   "codemirror_mode": {
    "name": "ipython",
    "version": 3
   },
   "file_extension": ".py",
   "mimetype": "text/x-python",
   "name": "python",
   "nbconvert_exporter": "python",
   "pygments_lexer": "ipython3",
   "version": "3.12.5"
  }
 },
 "nbformat": 4,
 "nbformat_minor": 2
}
