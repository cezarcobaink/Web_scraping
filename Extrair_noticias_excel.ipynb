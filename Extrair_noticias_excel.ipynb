{
 "cells": [
  {
   "cell_type": "code",
   "execution_count": 1,
   "metadata": {},
   "outputs": [],
   "source": [
    "import requests\n",
    "from bs4 import BeautifulSoup\n",
    "import pandas as pd"
   ]
  },
  {
   "cell_type": "code",
   "execution_count": 2,
   "metadata": {},
   "outputs": [],
   "source": [
    "lista_noticias = []\n",
    "\n",
    "response = requests.get('https://g1.globo.com/')\n",
    "\n",
    "content = response.content\n",
    "\n",
    "site = BeautifulSoup(content, 'html.parser')\n",
    "\n",
    "# HTML da notícia\n",
    "noticias = site.findAll('div', attrs={'class': 'feed-post-body'})\n"
   ]
  },
  {
   "cell_type": "code",
   "execution_count": 3,
   "metadata": {},
   "outputs": [],
   "source": [
    "\n",
    "for noticia in noticias:\n",
    "  # Título\n",
    "  titulo = noticia.find('a', attrs={'class': 'feed-post-link'})\n",
    "\n",
    "  # print(titulo.text)\n",
    "  # print(titulo['href']) # link da notícia\n",
    "\n",
    "  # Subtítulo: div class=\"feed-post-body-resumo\"\n",
    "  subtitulo = noticia.find('div', attrs={'class': 'feed-post-body-resumo'})\n",
    "\n",
    "  if (subtitulo):\n",
    "    # print(subtitulo.text)\n",
    "    lista_noticias.append([titulo.text, subtitulo.text, titulo['href']])\n",
    "  else:\n",
    "    lista_noticias.append([titulo.text, '', titulo['href']])\n"
   ]
  },
  {
   "cell_type": "code",
   "execution_count": 4,
   "metadata": {},
   "outputs": [
    {
     "data": {
      "text/html": [
       "<div>\n",
       "<style scoped>\n",
       "    .dataframe tbody tr th:only-of-type {\n",
       "        vertical-align: middle;\n",
       "    }\n",
       "\n",
       "    .dataframe tbody tr th {\n",
       "        vertical-align: top;\n",
       "    }\n",
       "\n",
       "    .dataframe thead th {\n",
       "        text-align: right;\n",
       "    }\n",
       "</style>\n",
       "<table border=\"1\" class=\"dataframe\">\n",
       "  <thead>\n",
       "    <tr style=\"text-align: right;\">\n",
       "      <th></th>\n",
       "      <th>Título</th>\n",
       "      <th>Subtítulo</th>\n",
       "      <th>Link</th>\n",
       "    </tr>\n",
       "  </thead>\n",
       "  <tbody>\n",
       "    <tr>\n",
       "      <th>0</th>\n",
       "      <td>2º turno: Quaest aponta vitória de Nunes e emp...</td>\n",
       "      <td></td>\n",
       "      <td>https://g1.globo.com/sp/sao-paulo/eleicoes/202...</td>\n",
       "    </tr>\n",
       "    <tr>\n",
       "      <th>1</th>\n",
       "      <td>Rio: Paes mantém liderança com 64% e Ramagem t...</td>\n",
       "      <td></td>\n",
       "      <td>https://g1.globo.com/rj/rio-de-janeiro/eleicoe...</td>\n",
       "    </tr>\n",
       "    <tr>\n",
       "      <th>2</th>\n",
       "      <td>BH: Tramonte lidera, e briga pelo 2º lugar tem...</td>\n",
       "      <td></td>\n",
       "      <td>https://g1.globo.com/mg/minas-gerais/eleicoes/...</td>\n",
       "    </tr>\n",
       "    <tr>\n",
       "      <th>3</th>\n",
       "      <td>Recife: prefeito João Campos segue à frente co...</td>\n",
       "      <td></td>\n",
       "      <td>https://g1.globo.com/pe/pernambuco/eleicoes/20...</td>\n",
       "    </tr>\n",
       "    <tr>\n",
       "      <th>4</th>\n",
       "      <td>La Niña tem 60% de chances de ocorrer e poderi...</td>\n",
       "      <td></td>\n",
       "      <td>https://g1.globo.com/meio-ambiente/noticia/202...</td>\n",
       "    </tr>\n",
       "    <tr>\n",
       "      <th>5</th>\n",
       "      <td>Ministro vê 'momento crítico' e diz que avalia...</td>\n",
       "      <td></td>\n",
       "      <td>https://g1.globo.com/economia/noticia/2024/09/...</td>\n",
       "    </tr>\n",
       "    <tr>\n",
       "      <th>6</th>\n",
       "      <td>Incêndio devastador engole a Floresta Nacional...</td>\n",
       "      <td></td>\n",
       "      <td>https://g1.globo.com/df/distrito-federal/notic...</td>\n",
       "    </tr>\n",
       "    <tr>\n",
       "      <th>7</th>\n",
       "      <td>Chuva preta, incêndios pelo Brasil e mais VÍDE...</td>\n",
       "      <td></td>\n",
       "      <td>https://g1.globo.com/playlist/videos-para-assi...</td>\n",
       "    </tr>\n",
       "  </tbody>\n",
       "</table>\n",
       "</div>"
      ],
      "text/plain": [
       "                                              Título Subtítulo  \\\n",
       "0  2º turno: Quaest aponta vitória de Nunes e emp...             \n",
       "1  Rio: Paes mantém liderança com 64% e Ramagem t...             \n",
       "2  BH: Tramonte lidera, e briga pelo 2º lugar tem...             \n",
       "3  Recife: prefeito João Campos segue à frente co...             \n",
       "4  La Niña tem 60% de chances de ocorrer e poderi...             \n",
       "5  Ministro vê 'momento crítico' e diz que avalia...             \n",
       "6  Incêndio devastador engole a Floresta Nacional...             \n",
       "7  Chuva preta, incêndios pelo Brasil e mais VÍDE...             \n",
       "\n",
       "                                                Link  \n",
       "0  https://g1.globo.com/sp/sao-paulo/eleicoes/202...  \n",
       "1  https://g1.globo.com/rj/rio-de-janeiro/eleicoe...  \n",
       "2  https://g1.globo.com/mg/minas-gerais/eleicoes/...  \n",
       "3  https://g1.globo.com/pe/pernambuco/eleicoes/20...  \n",
       "4  https://g1.globo.com/meio-ambiente/noticia/202...  \n",
       "5  https://g1.globo.com/economia/noticia/2024/09/...  \n",
       "6  https://g1.globo.com/df/distrito-federal/notic...  \n",
       "7  https://g1.globo.com/playlist/videos-para-assi...  "
      ]
     },
     "metadata": {},
     "output_type": "display_data"
    }
   ],
   "source": [
    "# Criar um DataFrame com as notícias\n",
    "news = pd.DataFrame(lista_noticias, columns=['Título', 'Subtítulo', 'Link'])\n",
    "# Salvar em um arquivo Excel\n",
    "news.to_excel('extarir_noticias_excel.xlsx', index=False)\n",
    "# Exibir as notícias\n",
    "display(news)"
   ]
  }
 ],
 "metadata": {
  "kernelspec": {
   "display_name": "Python 3",
   "language": "python",
   "name": "python3"
  },
  "language_info": {
   "codemirror_mode": {
    "name": "ipython",
    "version": 3
   },
   "file_extension": ".py",
   "mimetype": "text/x-python",
   "name": "python",
   "nbconvert_exporter": "python",
   "pygments_lexer": "ipython3",
   "version": "3.12.5"
  }
 },
 "nbformat": 4,
 "nbformat_minor": 2
}
