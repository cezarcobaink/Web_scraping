{
 "cells": [
  {
   "cell_type": "code",
   "execution_count": 1,
   "metadata": {},
   "outputs": [
    {
     "name": "stdout",
     "output_type": "stream",
     "text": [
      "O arquivo JSON está corretamente formatado.\n"
     ]
    }
   ],
   "source": [
    "import json\n",
    "\n",
    "def validar_json(file_path):\n",
    "    try:\n",
    "        with open(file_path, 'r', encoding='utf-8') as f:\n",
    "            data = json.load(f)\n",
    "        print(\"O arquivo JSON está corretamente formatado.\")\n",
    "    except json.JSONDecodeError as e:\n",
    "        print(f\"Erro de formatação no arquivo JSON: {e}\")\n",
    "\n",
    "# Caminho para o arquivo JSON\n",
    "file_path = 'mercadolivre_brasil.json'\n",
    "validar_json(file_path)"
   ]
  }
 ],
 "metadata": {
  "kernelspec": {
   "display_name": "Python 3",
   "language": "python",
   "name": "python3"
  },
  "language_info": {
   "codemirror_mode": {
    "name": "ipython",
    "version": 3
   },
   "file_extension": ".py",
   "mimetype": "text/x-python",
   "name": "python",
   "nbconvert_exporter": "python",
   "pygments_lexer": "ipython3",
   "version": "3.12.5"
  }
 },
 "nbformat": 4,
 "nbformat_minor": 2
}
